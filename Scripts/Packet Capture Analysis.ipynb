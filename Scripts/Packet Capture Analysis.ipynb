{
 "cells": [
  {
   "cell_type": "code",
   "execution_count": 1,
   "metadata": {},
   "outputs": [],
   "source": [
    "import sys\n",
    "import matplotlib.pyplot as plt\n",
    "import pandas as pd \n",
    "import numpy as np\n",
    "from matplotlib.patches import Rectangle\n",
    "from sklearn import preprocessing\n",
    "data_lib = pd.read_csv(\"Data/Library_1st_floor_results.csv\") \n",
    "data_cafe = pd.read_csv(\"Data/Cafeteria_2_results.csv\") \n",
    "data_st = pd.read_csv(\"Data/Stieltjesweg_results.csv\") \n",
    "data_mdr = pd.read_csv(\"Data/MDRatnight_results.csv\") \n",
    "\n",
    "# Preview the first 5 lines of the loaded data \n",
    "#data.head()\n",
    "\n",
    "#if sys.argv[1].endswith('.csv'):\n",
    "#    sys.argv[1] = sys.argv[1][:-4]\n",
    "#data = pd.read_csv(sys.argv[1]+'.csv') \n"
   ]
  },
  {
   "cell_type": "code",
   "execution_count": 2,
   "metadata": {},
   "outputs": [
    {
     "data": {
      "text/plain": [
       "\"\\nprint('The number of frames that were captured: ', data['frame.number'].count(), ' frames')\\nprint('The largest frame that was captured: ', data['frame.len'].max(), ' bytes')\\nprint('The smallest frame that was captured: ', data['frame.len'].min(), ' bytes')\\nprint('The lowest radio signal strength: ', data['wlan_radio.signal_dbm'].max(),' dBm')\\nprint('The highest radio signal strength: ', data['wlan_radio.signal_dbm'].min(),' dBm')\\n\""
      ]
     },
     "execution_count": 2,
     "metadata": {},
     "output_type": "execute_result"
    }
   ],
   "source": [
    "'''\n",
    "print('The number of frames that were captured: ', data['frame.number'].count(), ' frames')\n",
    "print('The largest frame that was captured: ', data['frame.len'].max(), ' bytes')\n",
    "print('The smallest frame that was captured: ', data['frame.len'].min(), ' bytes')\n",
    "print('The lowest radio signal strength: ', data['wlan_radio.signal_dbm'].max(),' dBm')\n",
    "print('The highest radio signal strength: ', data['wlan_radio.signal_dbm'].min(),' dBm')\n",
    "'''"
   ]
  },
  {
   "cell_type": "markdown",
   "metadata": {},
   "source": [
    "### Direction of Data Flow"
   ]
  },
  {
   "cell_type": "code",
   "execution_count": 59,
   "metadata": {},
   "outputs": [],
   "source": [
    "def get_direction(data):\n",
    "    #Which direction does the data flow (number of Packets)?\n",
    "    raw_direction = data['wlan.fc.ds'].value_counts().sort_index()\n",
    "    #print(raw_direction)\n",
    " \n",
    "    direction = [0] * 4\n",
    "    i = 0\n",
    "    for x in raw_direction:\n",
    "        direction[i] = x\n",
    "        i = i+1\n",
    "\n",
    "    direction = (direction/data['frame.number'].count())*100\n",
    "    print(\"In percentage: \" + str(direction))\n",
    "    return (direction)"
   ]
  },
  {
   "cell_type": "code",
   "execution_count": 74,
   "metadata": {},
   "outputs": [
    {
     "name": "stdout",
     "output_type": "stream",
     "text": [
      "In percentage: [79.95062597 15.2338567   4.71782914  0.09768818]\n",
      "In percentage: [7.76695182e+01 9.00640485e+00 1.32517252e+01 7.23516705e-02]\n",
      "In percentage: [62.07923356 21.75326544 16.16750101  0.        ]\n",
      "In percentage: [9.80592049e+01 8.95751578e-02 1.85121993e+00 0.00000000e+00]\n",
      "[79.95062597425712, 77.66951824123424, 62.0792335577421, 98.05920491383723]\n",
      "[15.233856703338896, 9.006404845494732, 21.75326543529547, 0.08957515782289711]\n",
      "[4.717829142673737, 13.25172524280876, 16.167501006962425, 1.8512199283398738]\n",
      "[0.09768817973025265, 0.07235167046225827, 0.0, 0.0]\n"
     ]
    }
   ],
   "source": [
    "direction_lib = get_direction(data_lib)\n",
    "direction_cafe = get_direction(data_cafe)\n",
    "direction_st = get_direction(data_st)\n",
    "direction_mdr = get_direction(data_mdr)\n",
    "\n",
    "sta_sta = [x[0] for x in (direction_lib,direction_cafe,direction_st,direction_mdr)]\n",
    "sta_ap = [x[1] for x in (direction_lib,direction_cafe,direction_st,direction_mdr)]\n",
    "ap_sta = [x[2] for x in (direction_lib,direction_cafe,direction_st,direction_mdr)]\n",
    "ap_ap = [x[3] for x in (direction_lib,direction_cafe,direction_st,direction_mdr)]\n",
    "\n",
    "print(sta_sta)\n",
    "print(sta_ap)\n",
    "print(ap_sta)\n",
    "print(ap_ap)"
   ]
  },
  {
   "cell_type": "code",
   "execution_count": 84,
   "metadata": {
    "scrolled": true
   },
   "outputs": [
    {
     "name": "stdout",
     "output_type": "stream",
     "text": [
      "In percentage: [79.95062597 15.2338567   4.71782914  0.09768818]\n",
      "In percentage: [7.76695182e+01 9.00640485e+00 1.32517252e+01 7.23516705e-02]\n",
      "In percentage: [62.07923356 21.75326544 16.16750101  0.        ]\n",
      "In percentage: [9.80592049e+01 8.95751578e-02 1.85121993e+00 0.00000000e+00]\n"
     ]
    },
    {
     "data": {
      "image/png": "[encoded data removed]",
      "text/plain": [
       "<Figure size 432x288 with 1 Axes>"
      ]
     },
     "metadata": {
      "needs_background": "light"
     },
     "output_type": "display_data"
    }
   ],
   "source": [
    "#Plot the distribution:\n",
    "frame_direction = ['STA to STA','STA to AP','AP to STA','AP to AP']\n",
    "\n",
    "direction_lib = get_direction(data_lib)\n",
    "direction_cafe = get_direction(data_cafe)\n",
    "direction_st = get_direction(data_st)\n",
    "direction_mdr = get_direction(data_mdr)\n",
    "\n",
    "locations = ['Ewi Cafeteria','Library','Stietjesweg 28','Michiel De Ruyterweg']\n",
    "\n",
    "#totals = [i+j+k+l for i,j,k,l in zip(direction_lib,direction_cafe,direction_st,direction_mdr)]\n",
    "#direction_lib = [i / j * 100 for i,j in zip(direction_lib, totals)]\n",
    "#direction_cafe = [i / j * 100 for i,j in zip(direction_cafe, totals)]\n",
    "#direction_st = [i / j * 100 for i,j in zip(direction_st, totals)]\n",
    "#direction_mdr = [i / j * 100 for i,j in zip(direction_mdr, totals)]\n",
    "\n",
    "pos = np.arange(len(frame_direction))\n",
    "plot1 = plt.bar(pos,sta_sta, width=0.8, color=['#1F77B4'],\n",
    "                edgecolor='white', label=frame_direction[0])\n",
    "plot2 = plt.bar(pos,sta_ap, bottom=sta_sta, width=0.8, color=['#FF7F0E'],\n",
    "                edgecolor='white',label=frame_direction[1])\n",
    "plot3 = plt.bar(pos,ap_sta, bottom=[i+j for i,j in zip(sta_sta, sta_ap)], width=0.8, \n",
    "                color=['#2CA02C'],edgecolor='white',label=frame_direction[2])\n",
    "plot4 = plt.bar(pos,ap_ap, bottom=[i+j+k for i,j,k in zip(sta_sta, sta_ap,ap_sta)], width=0.8, \n",
    "                color=['#D62728'],edgecolor='white',label=frame_direction[3])\n",
    "\n",
    "plt.title(\"Distribution of Traffic Direction\")\n",
    "plt.xlabel(\"Location\")\n",
    "plt.ylabel(\"Packets %\")\n",
    "\n",
    "def autolabel_vertical(rects):\n",
    "    \"\"\"\n",
    "    Attach a text label above each bar displaying its height\n",
    "    \"\"\"\n",
    "    for rect in rects:\n",
    "        height = rect.get_height()\n",
    "        plt.text(rect.get_x() + rect.get_width()/2., 1.0*height, '%0.2f%%' % (height),\n",
    "                ha='center', va='center')\n",
    "\n",
    "def autolabel_horizontal(rects):\n",
    "    \"\"\"\n",
    "    Attach a text label above each bar displaying its height\n",
    "    \"\"\"\n",
    "    for rect in rects:\n",
    "        width = rect.get_width()\n",
    "        if width >50:\n",
    "            plt.text(rect.get_x() + rect.get_width()+1, rect.get_y() + rect.get_height()/2.,\n",
    "                '%.2f%%' % width, ha='left', va='center', color='white',backgroundcolor='grey')\n",
    "        else:\n",
    "            plt.text(rect.get_x() + rect.get_width()+1, rect.get_y() + rect.get_height()/2.,\n",
    "                '%.2f%%' % width, ha='left', va='center', color='black')\n",
    "\n",
    "def autolabel_stacked(plot1,plot2,plot3,plot4):\n",
    "    for r1, r2, r3, r4 in zip(plot1,plot2,plot3,plot4):\n",
    "        h1 = r1.get_height()\n",
    "        h2 = r2.get_height()\n",
    "        h3 = r3.get_height()\n",
    "        h4 = r4.get_height()\n",
    "        if h1 > 0.5:\n",
    "            plt.text(r1.get_x() + r1.get_width() / 2., h1 / 2., \"%.2f%%\" % h1, \n",
    "                     ha=\"center\", va=\"center\", color=\"black\", fontsize=7, fontweight=\"bold\")\n",
    "        if h2 > 0.5:\n",
    "            plt.text(r2.get_x() + r2.get_width() / 2., h1 + h2 / 2., \"%.2f%%\" % h2, \n",
    "                     ha=\"center\", va=\"center\", color=\"black\", fontsize=7, fontweight=\"bold\")\n",
    "        if h3 > 0.5:\n",
    "            plt.text(r3.get_x() + r3.get_width() / 2., h1 + h2 + h3 / 2., \"%.2f%%\" % h3, \n",
    "                     ha=\"center\", va=\"center\", color=\"black\", fontsize=7, fontweight=\"bold\")\n",
    "        if h4 > 0.5: \n",
    "            plt.text(r4.get_x() + r4.get_width() / 2., h1 + h2 +h3 + h4 / 2., \"%.2f%%\" % h4, \n",
    "                     ha=\"center\", va=\"center\", color=\"black\", fontsize=7, fontweight=\"bold\")\n",
    "\n",
    "            \n",
    "            \n",
    "autolabel_stacked(plot1,plot2,plot3,plot4)\n",
    "\n",
    "plt.xticks(pos,locations,rotation=0,fontsize=8)\n",
    "plt.tight_layout()\n",
    "plt.legend(loc='upper left', bbox_to_anchor=(1,1), ncol=1)\n",
    "\n",
    "#plt.savefig(sys.argv[1]+'_Direction_.png',dpi=300,bbox_inches='tight')\n",
    "#plt.legend((plot1[0], plot2[0]), ('Men', 'Women'))\n",
    "plt.show()\n"
   ]
  },
  {
   "cell_type": "markdown",
   "metadata": {},
   "source": [
    "### Distribution of Frame Types"
   ]
  },
  {
   "cell_type": "code",
   "execution_count": 85,
   "metadata": {},
   "outputs": [],
   "source": [
    "# How many Packets are there for each Frame Type?\n",
    "def get_type(data):\n",
    "    raw_types= data['wlan.fc.type'].value_counts().sort_index()\n",
    "    #print(raw_types)\n",
    "\n",
    "    types = [0]*4\n",
    "    i = 0\n",
    "    for x in raw_types:\n",
    "        types[i] = x\n",
    "        i = i+1\n",
    "\n",
    "    types = (types/data['frame.number'].count())*100\n",
    "    #print('In Percentage: ' + str(types))\n",
    "    return (types)"
   ]
  },
  {
   "cell_type": "code",
   "execution_count": 91,
   "metadata": {},
   "outputs": [
    {
     "data": {
      "image/png": "[encoded data removed]",
      "text/plain": [
       "<Figure size 432x288 with 1 Axes>"
      ]
     },
     "metadata": {
      "needs_background": "light"
     },
     "output_type": "display_data"
    }
   ],
   "source": [
    "#Plot the distribution:\n",
    "frame_types = ['Management Frame','Control Frame','Data Frame','Corrupted Frame']\n",
    "\n",
    "type_lib = get_type(data_lib)\n",
    "type_cafe = get_type(data_cafe)\n",
    "type_st = get_type(data_st)\n",
    "type_mdr = get_type(data_mdr)\n",
    "\n",
    "m_frames = [x[0] for x in (type_lib,type_cafe,type_st,type_mdr)]\n",
    "c_frames = [x[1] for x in (type_lib,type_cafe,type_st,type_mdr)]\n",
    "d_frames = [x[2] for x in (type_lib,type_cafe,type_st,type_mdr)]\n",
    "corrupted_frames = [x[3] for x in (type_lib,type_cafe,type_st,type_mdr)]\n",
    "\n",
    "pos = np.arange(len(frame_types))\n",
    "\n",
    "#plot2 = plt.barh(pos, types, align='center', color=['#1F77B4','#FF7F0E','#2CA02C','#D62728'])\n",
    "plot1 = plt.bar(pos,m_frames, width=0.8, color=['#1F77B4'],\n",
    "                edgecolor='white', label=frame_types[0])\n",
    "plot2 = plt.bar(pos,c_frames, bottom=m_frames, width=0.8, color=['#FF7F0E'],\n",
    "                edgecolor='white',label=frame_types[1])\n",
    "plot3 = plt.bar(pos,d_frames, bottom=[i+j for i,j in zip(m_frames, c_frames)], width=0.8, \n",
    "                color=['#2CA02C'],edgecolor='white',label=frame_types[2])\n",
    "plot4 = plt.bar(pos,corrupted_frames, bottom=[i+j+k for i,j,k in zip(m_frames,c_frames,d_frames)], width=0.8, \n",
    "                color=['#D62728'],edgecolor='white',label=frame_types[3])\n",
    "\n",
    "\n",
    "plt.title(\"Distribution of frames based on type\")\n",
    "plt.xlabel(\"Location\")\n",
    "plt.ylabel(\"Packets %\")\n",
    "\n",
    "autolabel_stacked(plot1,plot2,plot3,plot4)\n",
    "\n",
    "plt.xticks(pos,locations,rotation=0,fontsize=8)\n",
    "plt.legend(loc='upper left', bbox_to_anchor=(1,1), ncol=1)\n",
    "\n",
    "plt.tight_layout()\n",
    "plt.savefig(sys.argv[1]+'_Types_.png',dpi=300,bbox_inches='tight')\n",
    "plt.show()\n"
   ]
  },
  {
   "cell_type": "markdown",
   "metadata": {},
   "source": [
    "### Distribution of Sub-Frame Types"
   ]
  },
  {
   "cell_type": "code",
   "execution_count": 19,
   "metadata": {
    "scrolled": false
   },
   "outputs": [
    {
     "name": "stdout",
     "output_type": "stream",
     "text": [
      "0         1\n",
      "1         1\n",
      "4       251\n",
      "5      2254\n",
      "8     30279\n",
      "11        2\n",
      "12        1\n",
      "13       10\n",
      "Name: wlan.fc.subtype, dtype: int64\n",
      "8        20\n",
      "9     13013\n",
      "10        2\n",
      "11    14569\n",
      "12    12179\n",
      "13     4284\n",
      "Name: wlan.fc.subtype, dtype: int64\n",
      "0     1206\n",
      "4      444\n",
      "8     5825\n",
      "12    1540\n",
      "Name: wlan.fc.subtype, dtype: int64\n",
      "[1, 1, 0, 0, 251, 2254, 0, 0, 30279, 0, 0, 2, 1, 10, 0]\n",
      "[0, 0, 0, 0, 0, 0, 0, 0, 20, 13013, 2, 14569, 12179, 4284, 0, 0]\n",
      "[1206, 0, 0, 0, 444, 0, 0, 0, 5825, 0, 0, 0, 1540, 0, 0, 0]\n",
      "[1.16440190e-03 1.16440190e-03 0.00000000e+00 0.00000000e+00\n",
      " 2.92264878e-01 2.62456189e+00 0.00000000e+00 0.00000000e+00\n",
      " 3.52569253e+01 0.00000000e+00 0.00000000e+00 2.32880381e-03\n",
      " 1.16440190e-03 1.16440190e-02 0.00000000e+00]\n",
      "[0.00000000e+00 0.00000000e+00 0.00000000e+00 0.00000000e+00\n",
      " 0.00000000e+00 0.00000000e+00 0.00000000e+00 0.00000000e+00\n",
      " 2.32880381e-02 1.51523620e+01 2.32880381e-03 1.69641714e+01\n",
      " 1.41812508e+01 4.98829776e+00 0.00000000e+00 0.00000000e+00]\n",
      "[1.4042687  0.         0.         0.         0.51699445 0.\n",
      " 0.         0.         6.7826411  0.         0.         0.\n",
      " 1.79317893 0.         0.         0.        ]\n"
     ]
    }
   ],
   "source": [
    "# How many Packets are there for each SubFrame Type?\n",
    "#print(data.groupby('wlan.fc.type')['wlan.fc.subtype'].value_counts().sort_index())\n",
    "\n",
    "df0 = data[(data['wlan.fc.type'] == 0)]\n",
    "df1 = data[(data['wlan.fc.type'] == 1)]\n",
    "df2 = data[(data['wlan.fc.type'] == 2)]\n",
    "\n",
    "raw_sub0 = df0['wlan.fc.subtype'].value_counts().sort_index()\n",
    "raw_sub1 = df1['wlan.fc.subtype'].value_counts().sort_index()\n",
    "raw_sub2 = df2['wlan.fc.subtype'].value_counts().sort_index()\n",
    "\n",
    "sub0_int = [0]* 15\n",
    "sub1_int = [0]* 16\n",
    "sub2_int = [0]* 16\n",
    "\n",
    "print(raw_sub0)\n",
    "print(raw_sub1)\n",
    "print(raw_sub2)\n",
    "\n",
    "for i in range(len(sub0_int)):\n",
    "    sub0_int[i] = raw_sub0.get(i)\n",
    "\n",
    "sub0_int = [0 if v is None else v for v in sub0_int]\n",
    "print(sub0_int)\n",
    "\n",
    "for i in range(len(sub1_int)):\n",
    "    sub1_int[i] = raw_sub1.get(i)\n",
    "    \n",
    "sub1_int = [0 if v is None else v for v in sub1_int]\n",
    "print(sub1_int)\n",
    "\n",
    "for i in range(len(sub2_int)):\n",
    "    sub2_int[i] = raw_sub2.get(i)\n",
    "    \n",
    "sub2_int = [0 if v is None else v for v in sub2_int]\n",
    "print(sub2_int)\n",
    "\n",
    "#subtypes = list(data.groupby('wlan.fc.type')['wlan.fc.subtype'].value_counts().sort_index())\n",
    "sub0 = (sub0_int/data['frame.number'].count())*100\n",
    "sub1 = (sub1_int/data['frame.number'].count())*100\n",
    "sub2 = (sub2_int/data['frame.number'].count())*100\n",
    "\n",
    "print(sub0)\n",
    "print(sub1)\n",
    "print(sub2)\n"
   ]
  },
  {
   "cell_type": "code",
   "execution_count": 20,
   "metadata": {},
   "outputs": [
    {
     "name": "stdout",
     "output_type": "stream",
     "text": [
      "[ 0  1  2  3  4  5  6  7  8  9 10 11 12 13 14]\n",
      "[15 16 17 18 19 20 21 22 23 24 25 26 27 28 29 30]\n",
      "[31 32 33 34 35 36 37 38 39 40 41 42 43 44 45 46]\n",
      "[ 0  1  2  3  4  5  6  7  8  9 10 11 12 13 14 15 16 17 18 19 20 21 22 23\n",
      " 24 25 26 27 28 29 30 31 32 33 34 35 36 37 38 39 40 41 42 43 44 45 46]\n"
     ]
    }
   ],
   "source": [
    "pos0 = np.arange(len(sub0))\n",
    "pos1 = np.arange(len(sub1))+len(sub0)\n",
    "pos2 = np.arange(len(sub2))+len(sub0) + len(sub1)\n",
    "print(pos0)\n",
    "print(pos1)\n",
    "print(pos2)\n",
    "\n",
    "pos = np.arange(len(sub0)+len(sub1)+len(sub2))\n",
    "print(pos)"
   ]
  },
  {
   "cell_type": "code",
   "execution_count": 21,
   "metadata": {},
   "outputs": [
    {
     "data": {
      "image/png": "[encoded data removed]",
      "text/plain": [
       "<Figure size 432x288 with 1 Axes>"
      ]
     },
     "metadata": {
      "needs_background": "light"
     },
     "output_type": "display_data"
    }
   ],
   "source": [
    "#Plot the distribution:\n",
    "frame_subtypes_0 = ['Association Request','Association Request', 'Reassociation Request','Reassociation Response', \n",
    "                    'Probe Request', 'Probe Response','NA','NA','Beacon','ATIM','Disassociation','Authentication',\n",
    "                    'Deauthentication','Action','Action-no ACK']\n",
    "frame_subtypes_1 = ['Reserved','Reserved','Reserved','Reserved','Reserved','Reserved','Reserved',\n",
    "                    'Control Wrapper','Block ACK Request','Block ACK','PS Poll',\n",
    "                    'RTS','CTS','ACK','CF-End','CF-End+CF+ACK']\n",
    "frame_subtypes_2 = ['Data',\n",
    "                    'Data+CF-ACK',\n",
    "                    'Data+CF-Poll',\n",
    "                    'Data+CF-ACK+CF-Poll',\n",
    "                    'Null Function',\n",
    "                    'CF-ACK',\n",
    "                    'CF-Poll',\n",
    "                    'CF-ACK+CF-Poll',\n",
    "                    'Qos Data',\n",
    "                    'NA',\n",
    "                    'Qos Data+CF-Poll',\n",
    "                    'Qos Data+CF-ACK+CF-Poll',\n",
    "                    'Qos Null',\n",
    "                    'Reserved Data Frame',\n",
    "                    'Qos CF-Poll',\n",
    "                    'Qos CF-ACK+CF-Poll']\n",
    "\n",
    "for i in range(len(sub0_int)):\n",
    "        if sub0_int[i]== 0:\n",
    "            frame_subtypes_0[i] = '' \n",
    "\n",
    "for i in range(len(sub1_int)):\n",
    "        if sub1_int[i]== 0:\n",
    "            frame_subtypes_1[i] = '' \n",
    "\n",
    "for i in range(len(sub2_int)):\n",
    "        if sub2_int[i]== 0:\n",
    "            frame_subtypes_2[i] = '' \n",
    "\n",
    "\n",
    "sub0 = [y for y in sub0 if y != 0]            \n",
    "sub1 = [y for y in sub1 if y != 0]            \n",
    "sub2 = [y for y in sub2 if y != 0]            \n",
    "frame_subtypes_0 = [y for y in frame_subtypes_0 if y != '']            \n",
    "frame_subtypes_1 = [y for y in frame_subtypes_1 if y != '']            \n",
    "frame_subtypes_2 = [y for y in frame_subtypes_2 if y != '']            \n",
    "\n",
    "frame_subtype = frame_subtypes_0+frame_subtypes_1+frame_subtypes_2\n",
    "\n",
    "pos0 = np.arange(len(sub0))\n",
    "pos1 = np.arange(len(sub1))+len(sub0)\n",
    "pos2 = np.arange(len(sub2))+len(sub0) + len(sub1)\n",
    "\n",
    "pos = np.arange(len(sub0)+len(sub1)+len(sub2))\n",
    "\n",
    "#data.groupby('wlan.fc.type')['wlan.fc.subtype'].value_counts().sort_index().unstack().plot(kind='bar',stacked=True)\n",
    "#data.groupby('wlan.fc.type')['wlan.fc.subtype'].value_counts().sort_index().unstack().plot(kind='bar')\n",
    "#data.groupby('wlan.fc.type')['wlan.fc.subtype'].value_counts().sort_index().plot(kind='bar')\n",
    "\n",
    "label1 = plt.barh(pos0, sub0, align='center')\n",
    "label2 = plt.barh(pos1, sub1, align='center')\n",
    "label3 = plt.barh(pos2, sub2, align='center')\n",
    "\n",
    "plt.title(\"Distribution of frames on subtype\")\n",
    "plt.ylabel(\"Frame Subtype\")\n",
    "plt.xlabel(\"Number of Packets\")\n",
    "plt.yticks(pos,frame_subtype ,rotation=0,fontsize=7)\n",
    "#plt.xticks(rotation=0,fontsize=5)\n",
    "\n",
    "def autolabel_sp(rects):\n",
    "    \"\"\"\n",
    "    Attach a text label above each bar displaying its height\n",
    "    \"\"\"\n",
    "    for rect in rects:\n",
    "        width = rect.get_width()\n",
    "        plt.text(rect.get_x() + rect.get_width(), rect.get_y() + rect.get_height()/2.,\n",
    "                '%.2f%%' % width, ha='left', va='center', color='black', size=5)\n",
    "\n",
    "autolabel_sp(label1)\n",
    "autolabel_sp(label2)\n",
    "autolabel_sp(label3)\n",
    "\n",
    "plt.legend(frame_types)\n",
    "plt.tight_layout()\n",
    "plt.savefig(sys.argv[1]+'_SubTypes_.png',dpi=300,bbox_inches='tight')\n",
    "plt.show()\n",
    "\n"
   ]
  },
  {
   "cell_type": "markdown",
   "metadata": {},
   "source": [
    "### Distribution of Qos Priority Types (in QoS Control Flags)"
   ]
  },
  {
   "cell_type": "code",
   "execution_count": 22,
   "metadata": {},
   "outputs": [
    {
     "name": "stdout",
     "output_type": "stream",
     "text": [
      "0.0    6097\n",
      "1.0      15\n",
      "3.0       9\n",
      "4.0     176\n",
      "6.0    1068\n",
      "Name: wlan.qos.priority, dtype: int64\n",
      "[6097, 15, 0, 9, 176, 0, 1068, 0]\n",
      "In percentage: [82.78343516632722, 0.20366598778004072, 0.0, 0.12219959266802445, 2.389680923285811, 0, 14.5010183299389, 0]\n"
     ]
    }
   ],
   "source": [
    "#What QoS does the data flows have?\n",
    "raw_qos = data['wlan.qos.priority'].value_counts().sort_index()\n",
    "print(raw_qos)\n",
    " \n",
    "qos = [0] * 8\n",
    "for x in raw_qos:\n",
    "    qos[int(raw_qos[raw_qos == x].index[0])] = x\n",
    "\n",
    "for i in range(len(qos)):\n",
    "    qos[i] = raw_qos.get(i)\n",
    "\n",
    "qos = [0 if v is None else v for v in qos]\n",
    "print(qos)\n",
    "\n",
    "total_qos_frames = sum(qos)\n",
    "for x in qos:\n",
    "    qos[qos.index(x)] = (x/total_qos_frames)*100\n",
    "print('In percentage: ' + str(qos))\n"
   ]
  },
  {
   "cell_type": "code",
   "execution_count": 23,
   "metadata": {},
   "outputs": [
    {
     "data": {
      "image/png": "[encoded data removed]",
      "text/plain": [
       "<Figure size 432x288 with 1 Axes>"
      ]
     },
     "metadata": {
      "needs_background": "light"
     },
     "output_type": "display_data"
    }
   ],
   "source": [
    "#Plot the distribution:\n",
    "QoS_types = ['Best Effort','Background','Spare(Background)','Excellent Effort(Best Effort)',\n",
    "             'Video(Controlled Load)','Video','Voice','Network Control (Voice)']\n",
    "pos = np.arange(len(QoS_types))\n",
    "\n",
    "plot4 = plt.barh(pos, qos, align='center', color=['#17BECF','#1F77B4','#FF7F0E','#2CA02C','#D62728'])\n",
    "\n",
    "plt.title(\"Distribution of QoS Traffic\")\n",
    "plt.ylabel(\"QoS Class\")\n",
    "plt.xlabel(\"Packets %\")\n",
    "plt.yticks(pos,QoS_types,rotation=0)\n",
    "autolabel(plot4)\n",
    "plt.tight_layout()\n",
    "plt.savefig(sys.argv[1]+'_QoSPriority_.png',dpi=300,bbox_inches='tight')\n",
    "plt.show()\n"
   ]
  },
  {
   "cell_type": "markdown",
   "metadata": {},
   "source": [
    "### Distribution of Data Length with Time and with Number of Packets"
   ]
  },
  {
   "cell_type": "code",
   "execution_count": null,
   "metadata": {},
   "outputs": [],
   "source": [
    "'''\n",
    "#Max data transferred in a packet(bytes)\n",
    "print('Max data: ' + str(data['data.len'].max()))\n",
    "\n",
    "#Min data transferred in a packet(bytes)\n",
    "print('Min data: ' + str(data['data.len'].min()))\n",
    "\n",
    "raw_data_len = data['data.len'].value_counts().sort_index()\n",
    "\n",
    "#raw_data_len.index\n",
    "\n",
    "#data_len = (raw_data_len/(data['data.len'].value_counts().sum()))*100\n",
    "\n",
    "#print(\"In Percentage:\" + str(raw_data_len))\n",
    "\n",
    "x = data[['data.len']].values.astype(float)\n",
    "\n",
    "# Create a minimum and maximum processor object\n",
    "min_max_scaler = preprocessing.MinMaxScaler()\n",
    "\n",
    "# Create an object to transform the data to fit minmax processor\n",
    "x_scaled = min_max_scaler.fit_transform(x)\n",
    "\n",
    "# Run the normalizer on the dataframe\n",
    "df_normalized = pd.DataFrame(x_scaled)\n",
    "\n",
    "\n",
    "df_normalized.dropna().plot(kind='hist')\n",
    "'''"
   ]
  },
  {
   "cell_type": "code",
   "execution_count": null,
   "metadata": {},
   "outputs": [],
   "source": [
    "'''\n",
    "#Plot the distribution of data length (bytes):\n",
    "\n",
    "#n, bins, patches = plt.hist(raw_data_len,raw_data_len.index , normed=1, facecolor='blue', alpha=0.5)\n",
    "raw_data_len.hist(bins=raw_data_len.index)\n",
    "#data[['data.len']].plot(kind='hist',bins=bin1,rwidth=0.8)\n",
    "\n",
    "#plot5 = plt.hist(raw_data_len,bins=bin1, color=['orange'])\n",
    "#plot5 = plt.bar(x=pos, height=qos, width=0.5, align='center', color=['#17BECF','#1F77B4','#FF7F0E','#2CA02C','#D62728'])\n",
    "\n",
    "plt.title(\"Distribution of Data Traffic\")\n",
    "plt.xlabel(\"Size of Data Packets(bytes)\")\n",
    "plt.ylabel(\"Number of Packets\")\n",
    "#plt.yticks(range(1, 100))\n",
    "#plt.xticks(range(1, 100))\n",
    "\n",
    "plt.show()\n",
    "'''"
   ]
  },
  {
   "cell_type": "code",
   "execution_count": null,
   "metadata": {},
   "outputs": [],
   "source": [
    "'''\n",
    "#Packet Size over Time\n",
    "plt.plot(data['frame.time_relative'], data['data.len'])\n",
    "\n",
    "#bin1 = [i for i in range(0,1600,100)]\n",
    "#data[['data.len']].plot(kind='hist',bins=bin1,rwidth=0.8)\n",
    "plt.show()\n",
    "'''"
   ]
  },
  {
   "cell_type": "markdown",
   "metadata": {},
   "source": [
    "### Distribution of Data Rates with RSSI"
   ]
  },
  {
   "cell_type": "code",
   "execution_count": null,
   "metadata": {},
   "outputs": [],
   "source": [
    "'''\n",
    "data[(data['wlan_radio.signal_dbm'] > -60) & (data['wlan_radio.phy'] == 4)]['wlan_radio.data_rate']\n",
    "\n",
    "#Packet Size over Time\n",
    "plt.scatter(data['wlan_radio.signal_dbm'], data['wlan_radio.data_rate'],marker='X',s=1**2)\n",
    "\n",
    "#bin1 = [i for i in range(0,1600,100)]\n",
    "#data[['data.len']].plot(kind='hist',bins=bin1,rwidth=0.8)\n",
    "plt.show()\n",
    "'''"
   ]
  },
  {
   "cell_type": "code",
   "execution_count": null,
   "metadata": {},
   "outputs": [],
   "source": []
  }
 ],
 "metadata": {
  "kernelspec": {
   "display_name": "Python 2",
   "language": "python",
   "name": "python2"
  },
  "language_info": {
   "codemirror_mode": {
    "name": "ipython",
    "version": 3
   },
   "file_extension": ".py",
   "mimetype": "text/x-python",
   "name": "python",
   "nbconvert_exporter": "python",
   "pygments_lexer": "ipython3",
   "version": "3.7.1"
  }
 },
 "nbformat": 4,
 "nbformat_minor": 2
}
