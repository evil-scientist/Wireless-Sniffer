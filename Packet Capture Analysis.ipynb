{
 "cells": [
  {
   "cell_type": "code",
   "execution_count": 1,
   "metadata": {},
   "outputs": [],
   "source": [
    "import matplotlib.pyplot as plt\n",
    "import pandas as pd \n",
    "import numpy as np\n",
    "from matplotlib.patches import Rectangle\n",
    "data = pd.read_csv(\"data/netflix_results.csv\") "
   ]
  },
  {
   "cell_type": "code",
   "execution_count": 2,
   "metadata": {
    "scrolled": false
   },
   "outputs": [
    {
     "data": {
      "text/html": [
       "<div>\n",
       "<style scoped>\n",
       "    .dataframe tbody tr th:only-of-type {\n",
       "        vertical-align: middle;\n",
       "    }\n",
       "\n",
       "    .dataframe tbody tr th {\n",
       "        vertical-align: top;\n",
       "    }\n",
       "\n",
       "    .dataframe thead th {\n",
       "        text-align: right;\n",
       "    }\n",
       "</style>\n",
       "<table border=\"1\" class=\"dataframe\">\n",
       "  <thead>\n",
       "    <tr style=\"text-align: right;\">\n",
       "      <th></th>\n",
       "      <th>frame.number</th>\n",
       "      <th>frame.time_relative</th>\n",
       "      <th>frame.len</th>\n",
       "      <th>wlan_radio.phy</th>\n",
       "      <th>wlan_radio.frequency</th>\n",
       "      <th>wlan_radio.signal_dbm</th>\n",
       "      <th>wlan_radio.data_rate</th>\n",
       "      <th>wlan_radio.duration</th>\n",
       "      <th>wlan.fc.type_subtype</th>\n",
       "      <th>wlan.fc.type</th>\n",
       "      <th>wlan.fc.subtype</th>\n",
       "      <th>wlan.duration</th>\n",
       "      <th>wlan.fc.ds</th>\n",
       "      <th>wlan.fc.retry</th>\n",
       "      <th>wlan.fcs.status</th>\n",
       "      <th>wlan.qos.priority</th>\n",
       "      <th>data.len</th>\n",
       "    </tr>\n",
       "  </thead>\n",
       "  <tbody>\n",
       "    <tr>\n",
       "      <th>0</th>\n",
       "      <td>1</td>\n",
       "      <td>0.000000</td>\n",
       "      <td>68</td>\n",
       "      <td>6</td>\n",
       "      <td>2412</td>\n",
       "      <td>-25.0</td>\n",
       "      <td>24.0</td>\n",
       "      <td>32</td>\n",
       "      <td>25</td>\n",
       "      <td>1</td>\n",
       "      <td>9</td>\n",
       "      <td>0</td>\n",
       "      <td>0x00000000</td>\n",
       "      <td>0</td>\n",
       "      <td>1</td>\n",
       "      <td>NaN</td>\n",
       "      <td>NaN</td>\n",
       "    </tr>\n",
       "    <tr>\n",
       "      <th>1</th>\n",
       "      <td>2</td>\n",
       "      <td>0.001863</td>\n",
       "      <td>56</td>\n",
       "      <td>6</td>\n",
       "      <td>2412</td>\n",
       "      <td>-26.0</td>\n",
       "      <td>24.0</td>\n",
       "      <td>28</td>\n",
       "      <td>27</td>\n",
       "      <td>1</td>\n",
       "      <td>11</td>\n",
       "      <td>158</td>\n",
       "      <td>0x00000000</td>\n",
       "      <td>0</td>\n",
       "      <td>1</td>\n",
       "      <td>NaN</td>\n",
       "      <td>NaN</td>\n",
       "    </tr>\n",
       "    <tr>\n",
       "      <th>2</th>\n",
       "      <td>3</td>\n",
       "      <td>0.001871</td>\n",
       "      <td>50</td>\n",
       "      <td>6</td>\n",
       "      <td>2412</td>\n",
       "      <td>-40.0</td>\n",
       "      <td>24.0</td>\n",
       "      <td>28</td>\n",
       "      <td>28</td>\n",
       "      <td>1</td>\n",
       "      <td>12</td>\n",
       "      <td>114</td>\n",
       "      <td>0x00000000</td>\n",
       "      <td>0</td>\n",
       "      <td>1</td>\n",
       "      <td>NaN</td>\n",
       "      <td>NaN</td>\n",
       "    </tr>\n",
       "    <tr>\n",
       "      <th>3</th>\n",
       "      <td>4</td>\n",
       "      <td>0.001874</td>\n",
       "      <td>68</td>\n",
       "      <td>6</td>\n",
       "      <td>2412</td>\n",
       "      <td>-41.0</td>\n",
       "      <td>24.0</td>\n",
       "      <td>32</td>\n",
       "      <td>25</td>\n",
       "      <td>1</td>\n",
       "      <td>9</td>\n",
       "      <td>0</td>\n",
       "      <td>0x00000000</td>\n",
       "      <td>0</td>\n",
       "      <td>1</td>\n",
       "      <td>NaN</td>\n",
       "      <td>NaN</td>\n",
       "    </tr>\n",
       "    <tr>\n",
       "      <th>4</th>\n",
       "      <td>5</td>\n",
       "      <td>0.004888</td>\n",
       "      <td>56</td>\n",
       "      <td>6</td>\n",
       "      <td>2412</td>\n",
       "      <td>-40.0</td>\n",
       "      <td>24.0</td>\n",
       "      <td>28</td>\n",
       "      <td>27</td>\n",
       "      <td>1</td>\n",
       "      <td>11</td>\n",
       "      <td>1724</td>\n",
       "      <td>0x00000000</td>\n",
       "      <td>0</td>\n",
       "      <td>1</td>\n",
       "      <td>NaN</td>\n",
       "      <td>NaN</td>\n",
       "    </tr>\n",
       "  </tbody>\n",
       "</table>\n",
       "</div>"
      ],
      "text/plain": [
       "   frame.number  frame.time_relative  frame.len  wlan_radio.phy  \\\n",
       "0             1             0.000000         68               6   \n",
       "1             2             0.001863         56               6   \n",
       "2             3             0.001871         50               6   \n",
       "3             4             0.001874         68               6   \n",
       "4             5             0.004888         56               6   \n",
       "\n",
       "   wlan_radio.frequency  wlan_radio.signal_dbm  wlan_radio.data_rate  \\\n",
       "0                  2412                  -25.0                  24.0   \n",
       "1                  2412                  -26.0                  24.0   \n",
       "2                  2412                  -40.0                  24.0   \n",
       "3                  2412                  -41.0                  24.0   \n",
       "4                  2412                  -40.0                  24.0   \n",
       "\n",
       "   wlan_radio.duration  wlan.fc.type_subtype  wlan.fc.type  wlan.fc.subtype  \\\n",
       "0                   32                    25             1                9   \n",
       "1                   28                    27             1               11   \n",
       "2                   28                    28             1               12   \n",
       "3                   32                    25             1                9   \n",
       "4                   28                    27             1               11   \n",
       "\n",
       "   wlan.duration  wlan.fc.ds  wlan.fc.retry  wlan.fcs.status  \\\n",
       "0              0  0x00000000              0                1   \n",
       "1            158  0x00000000              0                1   \n",
       "2            114  0x00000000              0                1   \n",
       "3              0  0x00000000              0                1   \n",
       "4           1724  0x00000000              0                1   \n",
       "\n",
       "   wlan.qos.priority  data.len  \n",
       "0                NaN       NaN  \n",
       "1                NaN       NaN  \n",
       "2                NaN       NaN  \n",
       "3                NaN       NaN  \n",
       "4                NaN       NaN  "
      ]
     },
     "execution_count": 2,
     "metadata": {},
     "output_type": "execute_result"
    }
   ],
   "source": [
    "# Preview the first 5 lines of the loaded data \n",
    "data.head()"
   ]
  },
  {
   "cell_type": "code",
   "execution_count": 3,
   "metadata": {},
   "outputs": [
    {
     "data": {
      "text/plain": [
       "222070"
      ]
     },
     "execution_count": 3,
     "metadata": {},
     "output_type": "execute_result"
    }
   ],
   "source": [
    "#Number of Packets in captured Session\n",
    "data['frame.number'].count()"
   ]
  },
  {
   "cell_type": "code",
   "execution_count": 4,
   "metadata": {},
   "outputs": [
    {
     "name": "stdout",
     "output_type": "stream",
     "text": [
      "The largest frame that was captured:  1593  bytes\n",
      "The smallest frame that was captured:  50  bytes\n",
      "The lowest radio signal strength:  -19.0  dBm\n",
      "The highest radio signal strength:  -97.0  dBm\n"
     ]
    }
   ],
   "source": [
    "print('The largest frame that was captured: ', data['frame.len'].max(), ' bytes')\n",
    "print('The smallest frame that was captured: ', data['frame.len'].min(), ' bytes')\n",
    "print('The lowest radio signal strength: ', data['wlan_radio.signal_dbm'].max(),' dBm')\n",
    "print('The highest radio signal strength: ', data['wlan_radio.signal_dbm'].min(),' dBm')"
   ]
  },
  {
   "cell_type": "code",
   "execution_count": 5,
   "metadata": {},
   "outputs": [
    {
     "data": {
      "text/plain": [
       "1    150842\n",
       "0     41259\n",
       "2     29969\n",
       "Name: wlan.fc.type, dtype: int64"
      ]
     },
     "execution_count": 5,
     "metadata": {},
     "output_type": "execute_result"
    }
   ],
   "source": [
    "# How many Packets are there for each Frame Type?\n",
    "data['wlan.fc.type'].value_counts()"
   ]
  },
  {
   "cell_type": "code",
   "execution_count": 6,
   "metadata": {},
   "outputs": [
    {
     "data": {
      "image/png": "[encoded data removed]",
      "text/plain": [
       "<Figure size 432x288 with 1 Axes>"
      ]
     },
     "metadata": {
      "needs_background": "light"
     },
     "output_type": "display_data"
    }
   ],
   "source": [
    "#Plot the distribution:\n",
    "ftypes = ['Management Frame','Control Frame','Data Frame']\n",
    "pos = np.arange(len(ftypes))\n",
    "data.groupby('wlan.fc.type')['frame.number'].nunique().plot(kind='bar')\n",
    "plt.title(\"Distribution of frames on type\")\n",
    "plt.xlabel(\"Frame type\")\n",
    "plt.ylabel(\"Number of Packets\")\n",
    "plt.xticks(pos,ftypes,rotation=0)\n",
    "plt.show()\n"
   ]
  },
  {
   "cell_type": "code",
   "execution_count": 7,
   "metadata": {},
   "outputs": [
    {
     "data": {
      "text/plain": [
       "wlan.fc.type  wlan.fc.subtype\n",
       "0             8                  36847\n",
       "              5                   3969\n",
       "              4                    313\n",
       "              13                   129\n",
       "              12                     1\n",
       "1             9                  48416\n",
       "              11                 47173\n",
       "              12                 38506\n",
       "              13                 13089\n",
       "              8                   3306\n",
       "              14                   352\n",
       "2             4                  20709\n",
       "              8                   5749\n",
       "              12                  1821\n",
       "              0                   1690\n",
       "Name: wlan.fc.subtype, dtype: int64"
      ]
     },
     "execution_count": 7,
     "metadata": {},
     "output_type": "execute_result"
    }
   ],
   "source": [
    "# How many Packets are there for each SubFrame Type?\n",
    "data.groupby('wlan.fc.type')['wlan.fc.subtype'].value_counts()"
   ]
  },
  {
   "cell_type": "code",
   "execution_count": 8,
   "metadata": {},
   "outputs": [
    {
     "data": {
      "text/plain": [
       "wlan.fc.type  wlan.fc.subtype\n",
       "0             4                    313\n",
       "              5                   3969\n",
       "              8                  36847\n",
       "              12                     1\n",
       "              13                   129\n",
       "1             8                   3306\n",
       "              9                  48416\n",
       "              11                 47173\n",
       "              12                 38506\n",
       "              13                 13089\n",
       "              14                   352\n",
       "2             0                   1690\n",
       "              4                  20709\n",
       "              8                   5749\n",
       "              12                  1821\n",
       "Name: frame.number, dtype: int64"
      ]
     },
     "execution_count": 8,
     "metadata": {},
     "output_type": "execute_result"
    }
   ],
   "source": [
    "data.groupby(['wlan.fc.type','wlan.fc.subtype'])['frame.number'].nunique()"
   ]
  },
  {
   "cell_type": "code",
   "execution_count": 20,
   "metadata": {},
   "outputs": [
    {
     "data": {
      "image/png": "[encoded data removed]",
      "text/plain": [
       "<Figure size 432x288 with 1 Axes>"
      ]
     },
     "metadata": {
      "needs_background": "light"
     },
     "output_type": "display_data"
    }
   ],
   "source": [
    "#Plot the distribution:\n",
    "ftypes = ['Association Request','Probe Request','Probe Response','Beacon',\n",
    "            'Annoucement Traffic Indication Map','Authentication','DeAuthentication','Action Frames','Control Frame End']\n",
    "pos = np.arange(len(ftypes))\n",
    "data.groupby(['wlan.fc.type','wlan.fc.subtype'])['frame.number'].nunique().plot(kind='bar')\n",
    "#data.groupby('wlan.fc.subtype')['frame.number'].nunique().plot(kind='bar')\n",
    "plt.title(\"Distribution of frames on subtype\")\n",
    "plt.xlabel(\"Frame Subtype\")\n",
    "plt.ylabel(\"Number of Packets\")\n",
    "#plt.xticks(pos,ftypes,rotation=0)\n",
    "plt.show()\n"
   ]
  },
  {
   "cell_type": "code",
   "execution_count": 10,
   "metadata": {},
   "outputs": [
    {
     "data": {
      "text/plain": [
       "0x00000000    192101\n",
       "0x00000001     22622\n",
       "0x00000002      7347\n",
       "Name: wlan.fc.ds, dtype: int64"
      ]
     },
     "execution_count": 10,
     "metadata": {},
     "output_type": "execute_result"
    }
   ],
   "source": [
    "#Which direction does the data flow (number of Packets)?\n",
    "data['wlan.fc.ds'].value_counts()"
   ]
  },
  {
   "cell_type": "code",
   "execution_count": 11,
   "metadata": {},
   "outputs": [
    {
     "data": {
      "image/png": "[encoded data removed]",
      "text/plain": [
       "<Figure size 432x288 with 1 Axes>"
      ]
     },
     "metadata": {
      "needs_background": "light"
     },
     "output_type": "display_data"
    }
   ],
   "source": [
    "#Plot the distribution:\n",
    "ftypes = ['STA to STA','STA to AP','AP to STA','AP to AP']\n",
    "pos = np.arange(len(ftypes))\n",
    "data.groupby('wlan.fc.ds')['frame.number'].nunique().plot(kind='bar')\n",
    "plt.title(\"Distribution of Traffic Direction\")\n",
    "plt.xlabel(\"Traffic Direction\")\n",
    "plt.ylabel(\"Number of Packets\")\n",
    "plt.xticks(pos,ftypes,rotation=0)\n",
    "plt.show()"
   ]
  },
  {
   "cell_type": "code",
   "execution_count": 12,
   "metadata": {
    "scrolled": true
   },
   "outputs": [
    {
     "data": {
      "text/plain": [
       "0.0    6492\n",
       "6.0    1067\n",
       "4.0       6\n",
       "5.0       3\n",
       "2.0       2\n",
       "Name: wlan.qos.priority, dtype: int64"
      ]
     },
     "execution_count": 12,
     "metadata": {},
     "output_type": "execute_result"
    }
   ],
   "source": [
    "#What QoS does the data flows have?\n",
    "data['wlan.qos.priority'].value_counts()"
   ]
  },
  {
   "cell_type": "code",
   "execution_count": 13,
   "metadata": {},
   "outputs": [
    {
     "data": {
      "image/png": "[encoded data removed]",
      "text/plain": [
       "<Figure size 432x288 with 1 Axes>"
      ]
     },
     "metadata": {
      "needs_background": "light"
     },
     "output_type": "display_data"
    }
   ],
   "source": [
    "#Plot the distribution:\n",
    "ftypes = ['Best Effort','Spare(Background)','Video (Controlled Load)','Video','Voice']\n",
    "pos = np.arange(len(ftypes))\n",
    "data.groupby('wlan.qos.priority')['frame.number'].nunique().plot(kind='bar')\n",
    "plt.title(\"Distribution of QoS Traffic\")\n",
    "plt.xlabel(\"QoS Class\")\n",
    "plt.ylabel(\"Number of Packets\")\n",
    "plt.xticks(pos,ftypes,rotation=0)\n",
    "plt.show()"
   ]
  },
  {
   "cell_type": "code",
   "execution_count": 14,
   "metadata": {},
   "outputs": [
    {
     "data": {
      "text/plain": [
       "1516.0"
      ]
     },
     "execution_count": 14,
     "metadata": {},
     "output_type": "execute_result"
    }
   ],
   "source": [
    "#Max data transferred in a packet(bytes)\n",
    "data['data.len'].max()"
   ]
  },
  {
   "cell_type": "code",
   "execution_count": 15,
   "metadata": {},
   "outputs": [
    {
     "data": {
      "text/plain": [
       "44.0"
      ]
     },
     "execution_count": 15,
     "metadata": {},
     "output_type": "execute_result"
    }
   ],
   "source": [
    "#Min data transferred in a packet(bytes)\n",
    "data['data.len'].min()"
   ]
  },
  {
   "cell_type": "code",
   "execution_count": 16,
   "metadata": {},
   "outputs": [
    {
     "data": {
      "image/png": "[encoded data removed]",
      "text/plain": [
       "<Figure size 432x288 with 1 Axes>"
      ]
     },
     "metadata": {
      "needs_background": "light"
     },
     "output_type": "display_data"
    }
   ],
   "source": [
    "#Plot the distribution of data length (bytes):\n",
    "bin1 = [i for i in range(0,1000,10)]\n",
    "data[['data.len']].plot(kind='hist',bins=bin1,rwidth=0.8)\n",
    "plt.show()"
   ]
  },
  {
   "cell_type": "code",
   "execution_count": 17,
   "metadata": {},
   "outputs": [
    {
     "data": {
      "image/png": "[encoded data removed]",
      "text/plain": [
       "<Figure size 432x288 with 1 Axes>"
      ]
     },
     "metadata": {
      "needs_background": "light"
     },
     "output_type": "display_data"
    }
   ],
   "source": [
    "#Plot the distribution of data length (bytes):\n",
    "bin1 = [i for i in range(0,1600,10)]\n",
    "data[['data.len']].plot(kind='hist',bins=bin1,rwidth=0.8)\n",
    "plt.show()"
   ]
  },
  {
   "cell_type": "code",
   "execution_count": 18,
   "metadata": {},
   "outputs": [
    {
     "data": {
      "text/plain": [
       "1516.0    5379\n",
       "62.0       322\n",
       "217.0      292\n",
       "48.0       276\n",
       "44.0       114\n",
       "68.0        80\n",
       "431.0       59\n",
       "218.0       49\n",
       "486.0       45\n",
       "341.0       44\n",
       "109.0       38\n",
       "164.0       31\n",
       "488.0       28\n",
       "228.0       26\n",
       "422.0       24\n",
       "470.0       22\n",
       "380.0       22\n",
       "494.0       21\n",
       "223.0       20\n",
       "548.0       19\n",
       "490.0       19\n",
       "105.0       17\n",
       "88.0        17\n",
       "1466.0      16\n",
       "433.0       15\n",
       "502.0       15\n",
       "472.0       14\n",
       "52.0        14\n",
       "424.0       14\n",
       "484.0       14\n",
       "          ... \n",
       "325.0        1\n",
       "175.0        1\n",
       "333.0        1\n",
       "282.0        1\n",
       "67.0         1\n",
       "192.0        1\n",
       "201.0        1\n",
       "388.0        1\n",
       "173.0        1\n",
       "473.0        1\n",
       "312.0        1\n",
       "157.0        1\n",
       "592.0        1\n",
       "156.0        1\n",
       "363.0        1\n",
       "1177.0       1\n",
       "590.0        1\n",
       "73.0         1\n",
       "276.0        1\n",
       "427.0        1\n",
       "176.0        1\n",
       "1201.0       1\n",
       "429.0        1\n",
       "124.0        1\n",
       "186.0        1\n",
       "432.0        1\n",
       "1415.0       1\n",
       "214.0        1\n",
       "706.0        1\n",
       "191.0        1\n",
       "Name: data.len, Length: 146, dtype: int64"
      ]
     },
     "execution_count": 18,
     "metadata": {},
     "output_type": "execute_result"
    }
   ],
   "source": [
    "data['data.len'].value_counts()"
   ]
  },
  {
   "cell_type": "code",
   "execution_count": null,
   "metadata": {},
   "outputs": [],
   "source": []
  }
 ],
 "metadata": {
  "kernelspec": {
   "display_name": "Python 2",
   "language": "python",
   "name": "python2"
  },
  "language_info": {
   "codemirror_mode": {
    "name": "ipython",
    "version": 3
   },
   "file_extension": ".py",
   "mimetype": "text/x-python",
   "name": "python",
   "nbconvert_exporter": "python",
   "pygments_lexer": "ipython3",
   "version": "3.7.1"
  }
 },
 "nbformat": 4,
 "nbformat_minor": 2
}
